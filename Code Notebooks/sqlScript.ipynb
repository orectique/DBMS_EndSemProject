{
 "cells": [
  {
   "cell_type": "code",
   "execution_count": 54,
   "metadata": {},
   "outputs": [],
   "source": [
    "import pandas as pd"
   ]
  },
  {
   "cell_type": "code",
   "execution_count": 55,
   "metadata": {},
   "outputs": [],
   "source": [
    "umpire = pd.read_csv('../Data/umpire.csv')\n",
    "games = pd.read_csv('../Data/games.csv')\n",
    "players = pd.read_csv('../Data/players.csv')\n",
    "teams = pd.read_csv('../Data/teams.csv')\n",
    "coach_contracts = pd.read_csv('../Data/coach_contracts.csv')\n",
    "manager_contracts = pd.read_csv('../Data/manager_contracts.csv')\n",
    "player_contracts = pd.read_csv('../Data/player_contracts.csv')\n",
    "managers = pd.read_csv('../Data/managers.csv')\n",
    "violations = pd.read_csv('../Data/violations.csv')\n",
    "goals = pd.read_csv('../Data/goals.csv')\n",
    "coaches = pd.read_csv('../Data/coaches.csv')"
   ]
  },
  {
   "cell_type": "code",
   "execution_count": 56,
   "metadata": {},
   "outputs": [],
   "source": [
    "dfs = [umpire, games, players, teams, coach_contracts, manager_contracts, player_contracts, managers, violations, goals, coaches]\n",
    "names = ['umpire', 'games', 'players', 'teams', 'coach_contracts', 'manager_contracts', 'player_contracts', 'managers', 'violations', 'goals', 'coaches']"
   ]
  },
  {
   "cell_type": "code",
   "execution_count": 57,
   "metadata": {},
   "outputs": [
    {
     "name": "stdout",
     "output_type": "stream",
     "text": [
      "2021-09-17\n"
     ]
    }
   ],
   "source": [
    "print(games['Date'][5])"
   ]
  },
  {
   "cell_type": "code",
   "execution_count": 58,
   "metadata": {},
   "outputs": [
    {
     "name": "stdout",
     "output_type": "stream",
     "text": [
      "umpire Index(['LicenseNumber', 'First_Name', 'Last_Name'], dtype='object')\n",
      "games Index(['gameID', 'Date', 'Ump_License', 'WinningTeam', 'Team2', 'Field'], dtype='object')\n",
      "players Index(['LicenseNumber', 'P_Name', 'Assists', 'P_Status', 'Goals',\n",
      "       'ShotPercent', 'Nationality', 'Age', 'Cur_Team'],\n",
      "      dtype='object')\n",
      "teams Index(['UID', 'T_Name', 'NumPlayed', 'NumWon', 'Home', 'Manager', 'Coach'], dtype='object')\n",
      "coach_contracts Index(['ContractID', 'Team', 'Person', 'ContractEnd', 'ContractStart',\n",
      "       'Salary'],\n",
      "      dtype='object')\n",
      "manager_contracts Index(['ContractID', 'Team', 'Person', 'ContractEnd', 'ContractStart',\n",
      "       'Salary'],\n",
      "      dtype='object')\n",
      "player_contracts Index(['ContractID', 'Team', 'Person', 'ContractEnd', 'ContractStart',\n",
      "       'Salary'],\n",
      "      dtype='object')\n",
      "managers Index(['LicenseID', 'First_Name', 'Last_Name', 'Active', 'WinPercent'], dtype='object')\n",
      "violations Index(['UID', 'Type', 'Player', 'gameID'], dtype='object')\n",
      "goals Index(['GID', 'Shooter', 'gameID'], dtype='object')\n",
      "coaches Index(['LicenseID', 'First_Name', 'Last_Name', 'Active', 'WinPercent'], dtype='object')\n"
     ]
    }
   ],
   "source": [
    "for i in range(len(dfs)):\n",
    "    print(names[i], dfs[i].columns)"
   ]
  },
  {
   "cell_type": "code",
   "execution_count": 59,
   "metadata": {},
   "outputs": [],
   "source": [
    "with open('../SQL/dataEntrywDates.sql', encoding = 'utf-8', mode = 'w') as f:\n",
    "    for ind in range(11):\n",
    "        df = dfs[ind]\n",
    "        name = names[ind]\n",
    "        for index, row in df.iterrows():\n",
    "            corpus = '( '\n",
    "            for j in range(len(row)):\n",
    "                i = row[j]\n",
    "                if ind == 1 and (j == 1):\n",
    "                    corpus += f\"TO_DATE('{i}', 'YYYY-MM-DD')\"\n",
    "                elif ind in [4, 5, 6] and j in [3, 4]:\n",
    "                    corpus += f\"TO_DATE('{i}', 'YYYY-MM-DD')\"\n",
    "                elif str(i).isnumeric():\n",
    "                    corpus += str(i)\n",
    "                else:\n",
    "                    corpus += '\\'' + str(i) + '\\''\n",
    "                corpus += ', '\n",
    "            corpus = corpus[:-2] + ');'\n",
    "            command = 'INSERT INTO ' + name + ' VALUES ' + corpus + '\\n'\n",
    "\n",
    "            f.write(command)\n",
    "\n",
    "\n",
    "\n",
    "\n",
    "f.close()"
   ]
  },
  {
   "cell_type": "code",
   "execution_count": null,
   "metadata": {},
   "outputs": [],
   "source": []
  }
 ],
 "metadata": {
  "interpreter": {
   "hash": "7aa7eecd0f849ab40efe6ac0a8ce5383eaa0569ecfba7009708b3eaae53995d1"
  },
  "kernelspec": {
   "display_name": "Python 3.10.4 ('env')",
   "language": "python",
   "name": "python3"
  },
  "language_info": {
   "codemirror_mode": {
    "name": "ipython",
    "version": 3
   },
   "file_extension": ".py",
   "mimetype": "text/x-python",
   "name": "python",
   "nbconvert_exporter": "python",
   "pygments_lexer": "ipython3",
   "version": "3.10.4"
  },
  "orig_nbformat": 4
 },
 "nbformat": 4,
 "nbformat_minor": 2
}
