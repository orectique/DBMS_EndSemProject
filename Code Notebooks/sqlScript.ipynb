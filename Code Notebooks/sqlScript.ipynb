{
 "cells": [
  {
   "cell_type": "code",
   "execution_count": 1,
   "metadata": {},
   "outputs": [],
   "source": [
    "import pandas as pd"
   ]
  },
  {
   "cell_type": "code",
   "execution_count": 2,
   "metadata": {},
   "outputs": [],
   "source": [
    "umpire = pd.read_csv('../Data/umpire.csv')\n",
    "games = pd.read_csv('../Data/games.csv')\n",
    "players = pd.read_csv('../Data/players.csv')\n",
    "teams = pd.read_csv('../Data/teams.csv')\n",
    "coach_contracts = pd.read_csv('../Data/coach_contracts.csv')\n",
    "manager_contracts = pd.read_csv('../Data/manager_contracts.csv')\n",
    "player_contracts = pd.read_csv('../Data/player_contracts.csv')\n",
    "managers = pd.read_csv('../Data/managers.csv')\n",
    "violations = pd.read_csv('../Data/violations.csv')\n",
    "goals = pd.read_csv('../Data/goals.csv')\n",
    "coaches = pd.read_csv('../Data/coaches.csv')"
   ]
  },
  {
   "cell_type": "code",
   "execution_count": 3,
   "metadata": {},
   "outputs": [],
   "source": [
    "dfs = [umpire, games, players, teams, coach_contracts, manager_contracts, player_contracts, managers, violations, goals, coaches]\n",
    "names = ['umpire', 'games', 'players', 'teams', 'coach_contracts', 'manager_contracts', 'player_contracts', 'managers', 'violations', 'goals', 'coaches']"
   ]
  },
  {
   "cell_type": "code",
   "execution_count": 4,
   "metadata": {},
   "outputs": [],
   "source": [
    "with open('../SQL/dataEntry.sql', encoding = 'utf-8', mode = 'w') as f:\n",
    "    for i in range(11):\n",
    "        df = dfs[i]\n",
    "        name = names[i]\n",
    "        for index, row in df.iterrows():\n",
    "            corpus = '( '\n",
    "            for i in row:\n",
    "                i = str(i)\n",
    "                if i.isnumeric():\n",
    "                    corpus += i\n",
    "                else:\n",
    "                    corpus += '\\'' + i + '\\''\n",
    "                corpus += ', '\n",
    "            corpus = corpus[:-2] + ');'\n",
    "            command = 'INSERT INTO ' + name + ' VALUES ' + corpus + '\\n'\n",
    "\n",
    "            f.write(command)\n",
    "\n",
    "\n",
    "\n",
    "\n",
    "f.close()"
   ]
  }
 ],
 "metadata": {
  "interpreter": {
   "hash": "7aa7eecd0f849ab40efe6ac0a8ce5383eaa0569ecfba7009708b3eaae53995d1"
  },
  "kernelspec": {
   "display_name": "Python 3.10.4 ('env')",
   "language": "python",
   "name": "python3"
  },
  "language_info": {
   "codemirror_mode": {
    "name": "ipython",
    "version": 3
   },
   "file_extension": ".py",
   "mimetype": "text/x-python",
   "name": "python",
   "nbconvert_exporter": "python",
   "pygments_lexer": "ipython3",
   "version": "3.10.4"
  },
  "orig_nbformat": 4
 },
 "nbformat": 4,
 "nbformat_minor": 2
}
