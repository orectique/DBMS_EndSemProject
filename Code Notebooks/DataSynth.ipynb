{
 "cells": [
  {
   "cell_type": "code",
   "execution_count": 1,
   "metadata": {},
   "outputs": [],
   "source": [
    "import string \n",
    "import pandas as pd\n",
    "import random\n",
    "from faker import Faker"
   ]
  },
  {
   "cell_type": "code",
   "execution_count": 2,
   "metadata": {},
   "outputs": [],
   "source": [
    "fake = Faker()"
   ]
  },
  {
   "cell_type": "code",
   "execution_count": 3,
   "metadata": {},
   "outputs": [],
   "source": [
    "workbook = pd.ExcelFile('../Data/DBMS.xlsx')"
   ]
  },
  {
   "cell_type": "code",
   "execution_count": 4,
   "metadata": {},
   "outputs": [
    {
     "data": {
      "text/plain": [
       "['Umpire',\n",
       " 'Violations',\n",
       " 'Players',\n",
       " 'Goals',\n",
       " 'Contracts',\n",
       " 'Managers',\n",
       " 'Teams',\n",
       " 'Coaches']"
      ]
     },
     "execution_count": 4,
     "metadata": {},
     "output_type": "execute_result"
    }
   ],
   "source": [
    "workbook.sheet_names"
   ]
  },
  {
   "cell_type": "code",
   "execution_count": 5,
   "metadata": {},
   "outputs": [],
   "source": [
    "umpire = pd.read_excel(workbook, sheet_name='Umpire')\n",
    "violations = pd.read_excel(workbook, sheet_name='Violations')\n",
    "players = pd.read_excel(workbook, sheet_name='Players')\n",
    "goals = pd.read_excel(workbook, sheet_name='Goals')\n",
    "contracts = pd.read_excel(workbook, sheet_name='Contracts')\n",
    "managers = pd.read_excel(workbook, sheet_name='Managers')\n",
    "teams = pd.read_excel(workbook, sheet_name='Teams')\n",
    "coaches = pd.read_excel(workbook, sheet_name='Coaches')"
   ]
  },
  {
   "cell_type": "code",
   "execution_count": 6,
   "metadata": {},
   "outputs": [
    {
     "data": {
      "text/plain": [
       "Index(['LicenseNumber', 'First_Name', 'Last_Name'], dtype='object')"
      ]
     },
     "execution_count": 6,
     "metadata": {},
     "output_type": "execute_result"
    }
   ],
   "source": [
    "umpire.columns"
   ]
  },
  {
   "cell_type": "code",
   "execution_count": 7,
   "metadata": {},
   "outputs": [
    {
     "data": {
      "text/plain": [
       "Index(['LicenseNumber', 'P_Name', 'Assists', 'P_Status', 'Goals',\n",
       "       'ShotPercent', 'Nationality', 'Age'],\n",
       "      dtype='object')"
      ]
     },
     "execution_count": 7,
     "metadata": {},
     "output_type": "execute_result"
    }
   ],
   "source": [
    "players.columns"
   ]
  },
  {
   "cell_type": "markdown",
   "metadata": {},
   "source": [
    "## Team"
   ]
  },
  {
   "cell_type": "code",
   "execution_count": 11,
   "metadata": {},
   "outputs": [
    {
     "data": {
      "text/html": [
       "<div>\n",
       "<style scoped>\n",
       "    .dataframe tbody tr th:only-of-type {\n",
       "        vertical-align: middle;\n",
       "    }\n",
       "\n",
       "    .dataframe tbody tr th {\n",
       "        vertical-align: top;\n",
       "    }\n",
       "\n",
       "    .dataframe thead th {\n",
       "        text-align: right;\n",
       "    }\n",
       "</style>\n",
       "<table border=\"1\" class=\"dataframe\">\n",
       "  <thead>\n",
       "    <tr style=\"text-align: right;\">\n",
       "      <th></th>\n",
       "      <th>Unnamed: 0</th>\n",
       "      <th>Unnamed: 1</th>\n",
       "      <th>Unnamed: 2</th>\n",
       "      <th>Unnamed: 3</th>\n",
       "      <th>Unnamed: 4</th>\n",
       "      <th>Unnamed: 5</th>\n",
       "      <th>LicenseID</th>\n",
       "      <th>First_Name</th>\n",
       "      <th>Last_Name</th>\n",
       "      <th>Active</th>\n",
       "      <th>WinPercent</th>\n",
       "    </tr>\n",
       "  </thead>\n",
       "  <tbody>\n",
       "    <tr>\n",
       "      <th>0</th>\n",
       "      <td>NaN</td>\n",
       "      <td>NaN</td>\n",
       "      <td>NaN</td>\n",
       "      <td>NaN</td>\n",
       "      <td>NaN</td>\n",
       "      <td>NaN</td>\n",
       "      <td>JJJG-922</td>\n",
       "      <td>Carmine</td>\n",
       "      <td>Urry</td>\n",
       "      <td>True</td>\n",
       "      <td>35.64</td>\n",
       "    </tr>\n",
       "    <tr>\n",
       "      <th>1</th>\n",
       "      <td>NaN</td>\n",
       "      <td>NaN</td>\n",
       "      <td>NaN</td>\n",
       "      <td>NaN</td>\n",
       "      <td>NaN</td>\n",
       "      <td>NaN</td>\n",
       "      <td>KMHC-427</td>\n",
       "      <td>Juan</td>\n",
       "      <td>Tabard</td>\n",
       "      <td>False</td>\n",
       "      <td>82.11</td>\n",
       "    </tr>\n",
       "    <tr>\n",
       "      <th>2</th>\n",
       "      <td>NaN</td>\n",
       "      <td>NaN</td>\n",
       "      <td>NaN</td>\n",
       "      <td>NaN</td>\n",
       "      <td>NaN</td>\n",
       "      <td>NaN</td>\n",
       "      <td>BQJG-863</td>\n",
       "      <td>Veronica</td>\n",
       "      <td>Akam</td>\n",
       "      <td>True</td>\n",
       "      <td>68.75</td>\n",
       "    </tr>\n",
       "    <tr>\n",
       "      <th>3</th>\n",
       "      <td>NaN</td>\n",
       "      <td>NaN</td>\n",
       "      <td>NaN</td>\n",
       "      <td>NaN</td>\n",
       "      <td>NaN</td>\n",
       "      <td>NaN</td>\n",
       "      <td>LYXZ-176</td>\n",
       "      <td>Claire</td>\n",
       "      <td>Saltmarshe</td>\n",
       "      <td>False</td>\n",
       "      <td>82.21</td>\n",
       "    </tr>\n",
       "    <tr>\n",
       "      <th>4</th>\n",
       "      <td>NaN</td>\n",
       "      <td>NaN</td>\n",
       "      <td>NaN</td>\n",
       "      <td>NaN</td>\n",
       "      <td>NaN</td>\n",
       "      <td>NaN</td>\n",
       "      <td>XZVF-748</td>\n",
       "      <td>Byran</td>\n",
       "      <td>Dall</td>\n",
       "      <td>True</td>\n",
       "      <td>0.00</td>\n",
       "    </tr>\n",
       "  </tbody>\n",
       "</table>\n",
       "</div>"
      ],
      "text/plain": [
       "   Unnamed: 0  Unnamed: 1  Unnamed: 2  Unnamed: 3  Unnamed: 4  Unnamed: 5  \\\n",
       "0         NaN         NaN         NaN         NaN         NaN         NaN   \n",
       "1         NaN         NaN         NaN         NaN         NaN         NaN   \n",
       "2         NaN         NaN         NaN         NaN         NaN         NaN   \n",
       "3         NaN         NaN         NaN         NaN         NaN         NaN   \n",
       "4         NaN         NaN         NaN         NaN         NaN         NaN   \n",
       "\n",
       "  LicenseID First_Name   Last_Name  Active  WinPercent  \n",
       "0  JJJG-922    Carmine        Urry    True       35.64  \n",
       "1  KMHC-427       Juan      Tabard   False       82.11  \n",
       "2  BQJG-863   Veronica        Akam    True       68.75  \n",
       "3  LYXZ-176     Claire  Saltmarshe   False       82.21  \n",
       "4  XZVF-748      Byran        Dall    True        0.00  "
      ]
     },
     "execution_count": 11,
     "metadata": {},
     "output_type": "execute_result"
    }
   ],
   "source": [
    "coaches.head()"
   ]
  },
  {
   "cell_type": "code",
   "execution_count": 20,
   "metadata": {},
   "outputs": [
    {
     "data": {
      "text/html": [
       "<div>\n",
       "<style scoped>\n",
       "    .dataframe tbody tr th:only-of-type {\n",
       "        vertical-align: middle;\n",
       "    }\n",
       "\n",
       "    .dataframe tbody tr th {\n",
       "        vertical-align: top;\n",
       "    }\n",
       "\n",
       "    .dataframe thead th {\n",
       "        text-align: right;\n",
       "    }\n",
       "</style>\n",
       "<table border=\"1\" class=\"dataframe\">\n",
       "  <thead>\n",
       "    <tr style=\"text-align: right;\">\n",
       "      <th></th>\n",
       "      <th>UID</th>\n",
       "      <th>T_Name</th>\n",
       "      <th>NumPlayed</th>\n",
       "      <th>NumWon</th>\n",
       "      <th>Home</th>\n",
       "      <th>Manager</th>\n",
       "      <th>Coach</th>\n",
       "    </tr>\n",
       "  </thead>\n",
       "  <tbody>\n",
       "    <tr>\n",
       "      <th>0</th>\n",
       "      <td>J-663</td>\n",
       "      <td>Tempsoft</td>\n",
       "      <td>65</td>\n",
       "      <td>58</td>\n",
       "      <td>Agricultural University of Szczecin</td>\n",
       "      <td>NaN</td>\n",
       "      <td>NaN</td>\n",
       "    </tr>\n",
       "    <tr>\n",
       "      <th>1</th>\n",
       "      <td>JG-818</td>\n",
       "      <td>Gembucket</td>\n",
       "      <td>67</td>\n",
       "      <td>50</td>\n",
       "      <td>Marquette University</td>\n",
       "      <td>NaN</td>\n",
       "      <td>NaN</td>\n",
       "    </tr>\n",
       "    <tr>\n",
       "      <th>2</th>\n",
       "      <td>YT-531</td>\n",
       "      <td>Holdlamis</td>\n",
       "      <td>50</td>\n",
       "      <td>48</td>\n",
       "      <td>COSMIQ Institute of Technology</td>\n",
       "      <td>NaN</td>\n",
       "      <td>NaN</td>\n",
       "    </tr>\n",
       "    <tr>\n",
       "      <th>3</th>\n",
       "      <td>KG-943</td>\n",
       "      <td>Bigtax</td>\n",
       "      <td>67</td>\n",
       "      <td>59</td>\n",
       "      <td>Instituto Universitario de La Paz</td>\n",
       "      <td>NaN</td>\n",
       "      <td>NaN</td>\n",
       "    </tr>\n",
       "    <tr>\n",
       "      <th>4</th>\n",
       "      <td>FJ-273</td>\n",
       "      <td>Gembucket</td>\n",
       "      <td>64</td>\n",
       "      <td>45</td>\n",
       "      <td>Universidad de Córdoba</td>\n",
       "      <td>NaN</td>\n",
       "      <td>NaN</td>\n",
       "    </tr>\n",
       "  </tbody>\n",
       "</table>\n",
       "</div>"
      ],
      "text/plain": [
       "      UID     T_Name  NumPlayed  NumWon                                 Home  \\\n",
       "0   J-663   Tempsoft         65      58  Agricultural University of Szczecin   \n",
       "1  JG-818  Gembucket         67      50                 Marquette University   \n",
       "2  YT-531  Holdlamis         50      48       COSMIQ Institute of Technology   \n",
       "3  KG-943     Bigtax         67      59    Instituto Universitario de La Paz   \n",
       "4  FJ-273  Gembucket         64      45               Universidad de Córdoba   \n",
       "\n",
       "   Manager  Coach  \n",
       "0      NaN    NaN  \n",
       "1      NaN    NaN  \n",
       "2      NaN    NaN  \n",
       "3      NaN    NaN  \n",
       "4      NaN    NaN  "
      ]
     },
     "execution_count": 20,
     "metadata": {},
     "output_type": "execute_result"
    }
   ],
   "source": [
    "managerID = random.sample(managers[managers['Active'] == True]['ManagerID'].tolist(), len(teams))\n",
    "teams['Manager'] = managerID\n",
    "\n",
    "umpireID = random.sample(umpire['LicenseID'].tolist(), len(teams))\n",
    "teams['Manager'] = managerID"
   ]
  },
  {
   "cell_type": "markdown",
   "metadata": {},
   "source": [
    "## Player"
   ]
  },
  {
   "cell_type": "code",
   "execution_count": null,
   "metadata": {},
   "outputs": [],
   "source": []
  },
  {
   "cell_type": "markdown",
   "metadata": {},
   "source": [
    "## Violations"
   ]
  },
  {
   "cell_type": "code",
   "execution_count": 10,
   "metadata": {},
   "outputs": [
    {
     "data": {
      "text/plain": [
       "Index(['UID', 'Date', 'Type', 'Ump_License', 'Player', 'Team1', 'Team2'], dtype='object')"
      ]
     },
     "execution_count": 10,
     "metadata": {},
     "output_type": "execute_result"
    }
   ],
   "source": [
    "violations.columns"
   ]
  },
  {
   "cell_type": "code",
   "execution_count": null,
   "metadata": {},
   "outputs": [],
   "source": [
    "violationType = ['Kicking', 'Tripping', 'Charging', 'Pushing', 'Tackling', 'Holding', 'Touching the Ball']\n",
    "\n",
    "for i in range(367):\n",
    "    uid = ''.join(random.choice(string.ascii_letters + string.digits + string.punctuation) for i in range(8))\n",
    "    date = fake.date_between(end_date='today', start_date='-3y')\n",
    "    violation = random.choice(violationType)\n",
    "    ump = random.choice(umpire['LicenseNumber'])\n",
    "    player = random.choice(players['LicenseNumber'])\n",
    "\n",
    "\n",
    "    violations.loc[len(violations)] = [uid, ]"
   ]
  }
 ],
 "metadata": {
  "interpreter": {
   "hash": "7aa7eecd0f849ab40efe6ac0a8ce5383eaa0569ecfba7009708b3eaae53995d1"
  },
  "kernelspec": {
   "display_name": "Python 3.10.4 ('env')",
   "language": "python",
   "name": "python3"
  },
  "language_info": {
   "codemirror_mode": {
    "name": "ipython",
    "version": 3
   },
   "file_extension": ".py",
   "mimetype": "text/x-python",
   "name": "python",
   "nbconvert_exporter": "python",
   "pygments_lexer": "ipython3",
   "version": "3.10.4"
  },
  "orig_nbformat": 4
 },
 "nbformat": 4,
 "nbformat_minor": 2
}
