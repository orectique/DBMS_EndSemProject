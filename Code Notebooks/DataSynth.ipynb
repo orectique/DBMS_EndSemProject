{
 "cells": [
  {
   "cell_type": "code",
   "execution_count": 73,
   "metadata": {},
   "outputs": [],
   "source": [
    "import string \n",
    "import pandas as pd\n",
    "import random\n",
    "from faker import Faker"
   ]
  },
  {
   "cell_type": "code",
   "execution_count": 74,
   "metadata": {},
   "outputs": [],
   "source": [
    "fake = Faker()"
   ]
  },
  {
   "cell_type": "code",
   "execution_count": 75,
   "metadata": {},
   "outputs": [],
   "source": [
    "workbook = pd.ExcelFile('../Data/DBMS.xlsx')"
   ]
  },
  {
   "cell_type": "code",
   "execution_count": 76,
   "metadata": {},
   "outputs": [
    {
     "data": {
      "text/plain": [
       "['Umpire',\n",
       " 'Violations',\n",
       " 'Players',\n",
       " 'Goals',\n",
       " 'Contracts',\n",
       " 'Managers',\n",
       " 'Teams',\n",
       " 'Coaches']"
      ]
     },
     "execution_count": 76,
     "metadata": {},
     "output_type": "execute_result"
    }
   ],
   "source": [
    "workbook.sheet_names"
   ]
  },
  {
   "cell_type": "markdown",
   "metadata": {},
   "source": [
    "#Umpire\n",
    "#Violations\n",
    "#Players\n",
    "Goals\n",
    "Contracts\n",
    "#Managers\n",
    "#Teams\n",
    "#Coaches"
   ]
  },
  {
   "cell_type": "code",
   "execution_count": 77,
   "metadata": {},
   "outputs": [],
   "source": [
    "umpire = pd.read_excel(workbook, sheet_name='Umpire')\n",
    "players = pd.read_excel(workbook, sheet_name='Players')\n",
    "contracts = pd.read_excel(workbook, sheet_name='Contracts')\n",
    "managers = pd.read_excel(workbook, sheet_name='Managers')\n",
    "teams = pd.read_excel(workbook, sheet_name='Teams')\n",
    "coaches = pd.read_excel(workbook, sheet_name='Coaches')"
   ]
  },
  {
   "cell_type": "code",
   "execution_count": 78,
   "metadata": {},
   "outputs": [
    {
     "data": {
      "text/plain": [
       "Index(['LicenseNumber', 'First_Name', 'Last_Name'], dtype='object')"
      ]
     },
     "execution_count": 78,
     "metadata": {},
     "output_type": "execute_result"
    }
   ],
   "source": [
    "umpire.columns"
   ]
  },
  {
   "cell_type": "code",
   "execution_count": 79,
   "metadata": {},
   "outputs": [
    {
     "data": {
      "text/plain": [
       "Index(['LicenseNumber', 'P_Name', 'Assists', 'P_Status', 'Goals',\n",
       "       'ShotPercent', 'Nationality', 'Age'],\n",
       "      dtype='object')"
      ]
     },
     "execution_count": 79,
     "metadata": {},
     "output_type": "execute_result"
    }
   ],
   "source": [
    "players.columns"
   ]
  },
  {
   "cell_type": "markdown",
   "metadata": {},
   "source": [
    "## Team"
   ]
  },
  {
   "cell_type": "code",
   "execution_count": 80,
   "metadata": {},
   "outputs": [
    {
     "data": {
      "text/html": [
       "<div>\n",
       "<style scoped>\n",
       "    .dataframe tbody tr th:only-of-type {\n",
       "        vertical-align: middle;\n",
       "    }\n",
       "\n",
       "    .dataframe tbody tr th {\n",
       "        vertical-align: top;\n",
       "    }\n",
       "\n",
       "    .dataframe thead th {\n",
       "        text-align: right;\n",
       "    }\n",
       "</style>\n",
       "<table border=\"1\" class=\"dataframe\">\n",
       "  <thead>\n",
       "    <tr style=\"text-align: right;\">\n",
       "      <th></th>\n",
       "      <th>LicenseID</th>\n",
       "      <th>First_Name</th>\n",
       "      <th>Last_Name</th>\n",
       "      <th>Active</th>\n",
       "      <th>WinPercent</th>\n",
       "    </tr>\n",
       "  </thead>\n",
       "  <tbody>\n",
       "    <tr>\n",
       "      <th>0</th>\n",
       "      <td>JJJG-922</td>\n",
       "      <td>Carmine</td>\n",
       "      <td>Urry</td>\n",
       "      <td>True</td>\n",
       "      <td>35.64</td>\n",
       "    </tr>\n",
       "    <tr>\n",
       "      <th>1</th>\n",
       "      <td>KMHC-427</td>\n",
       "      <td>Juan</td>\n",
       "      <td>Tabard</td>\n",
       "      <td>False</td>\n",
       "      <td>82.11</td>\n",
       "    </tr>\n",
       "    <tr>\n",
       "      <th>2</th>\n",
       "      <td>BQJG-863</td>\n",
       "      <td>Veronica</td>\n",
       "      <td>Akam</td>\n",
       "      <td>True</td>\n",
       "      <td>68.75</td>\n",
       "    </tr>\n",
       "    <tr>\n",
       "      <th>3</th>\n",
       "      <td>LYXZ-176</td>\n",
       "      <td>Claire</td>\n",
       "      <td>Saltmarshe</td>\n",
       "      <td>False</td>\n",
       "      <td>82.21</td>\n",
       "    </tr>\n",
       "    <tr>\n",
       "      <th>4</th>\n",
       "      <td>XZVF-748</td>\n",
       "      <td>Byran</td>\n",
       "      <td>Dall</td>\n",
       "      <td>True</td>\n",
       "      <td>0.00</td>\n",
       "    </tr>\n",
       "  </tbody>\n",
       "</table>\n",
       "</div>"
      ],
      "text/plain": [
       "  LicenseID First_Name   Last_Name  Active  WinPercent\n",
       "0  JJJG-922    Carmine        Urry    True       35.64\n",
       "1  KMHC-427       Juan      Tabard   False       82.11\n",
       "2  BQJG-863   Veronica        Akam    True       68.75\n",
       "3  LYXZ-176     Claire  Saltmarshe   False       82.21\n",
       "4  XZVF-748      Byran        Dall    True        0.00"
      ]
     },
     "execution_count": 80,
     "metadata": {},
     "output_type": "execute_result"
    }
   ],
   "source": [
    "coaches.head()"
   ]
  },
  {
   "cell_type": "code",
   "execution_count": 81,
   "metadata": {},
   "outputs": [
    {
     "data": {
      "text/html": [
       "<div>\n",
       "<style scoped>\n",
       "    .dataframe tbody tr th:only-of-type {\n",
       "        vertical-align: middle;\n",
       "    }\n",
       "\n",
       "    .dataframe tbody tr th {\n",
       "        vertical-align: top;\n",
       "    }\n",
       "\n",
       "    .dataframe thead th {\n",
       "        text-align: right;\n",
       "    }\n",
       "</style>\n",
       "<table border=\"1\" class=\"dataframe\">\n",
       "  <thead>\n",
       "    <tr style=\"text-align: right;\">\n",
       "      <th></th>\n",
       "      <th>LicenseID</th>\n",
       "      <th>First_Name</th>\n",
       "      <th>Last_Name</th>\n",
       "      <th>Active</th>\n",
       "      <th>WinPercent</th>\n",
       "    </tr>\n",
       "  </thead>\n",
       "  <tbody>\n",
       "    <tr>\n",
       "      <th>0</th>\n",
       "      <td>JZJP-101</td>\n",
       "      <td>Milka</td>\n",
       "      <td>Lilburn</td>\n",
       "      <td>False</td>\n",
       "      <td>0.00</td>\n",
       "    </tr>\n",
       "    <tr>\n",
       "      <th>1</th>\n",
       "      <td>NVWZ-929</td>\n",
       "      <td>Llewellyn</td>\n",
       "      <td>MacCaffery</td>\n",
       "      <td>True</td>\n",
       "      <td>31.61</td>\n",
       "    </tr>\n",
       "    <tr>\n",
       "      <th>2</th>\n",
       "      <td>VELB-451</td>\n",
       "      <td>Babita</td>\n",
       "      <td>Thorsen</td>\n",
       "      <td>True</td>\n",
       "      <td>0.00</td>\n",
       "    </tr>\n",
       "    <tr>\n",
       "      <th>3</th>\n",
       "      <td>GOSC-513</td>\n",
       "      <td>Evan</td>\n",
       "      <td>Samper</td>\n",
       "      <td>True</td>\n",
       "      <td>8.63</td>\n",
       "    </tr>\n",
       "    <tr>\n",
       "      <th>4</th>\n",
       "      <td>AIRM-084</td>\n",
       "      <td>Claudina</td>\n",
       "      <td>Huntriss</td>\n",
       "      <td>True</td>\n",
       "      <td>7.09</td>\n",
       "    </tr>\n",
       "  </tbody>\n",
       "</table>\n",
       "</div>"
      ],
      "text/plain": [
       "  LicenseID First_Name   Last_Name  Active  WinPercent\n",
       "0  JZJP-101      Milka     Lilburn   False        0.00\n",
       "1  NVWZ-929  Llewellyn  MacCaffery    True       31.61\n",
       "2  VELB-451     Babita     Thorsen    True        0.00\n",
       "3  GOSC-513       Evan      Samper    True        8.63\n",
       "4  AIRM-084   Claudina    Huntriss    True        7.09"
      ]
     },
     "execution_count": 81,
     "metadata": {},
     "output_type": "execute_result"
    }
   ],
   "source": [
    "managers.head()"
   ]
  },
  {
   "cell_type": "code",
   "execution_count": 82,
   "metadata": {},
   "outputs": [
    {
     "data": {
      "text/plain": [
       "Index(['UID', 'T_Name', 'NumPlayed', 'NumWon', 'Home', 'Manager', 'Coach'], dtype='object')"
      ]
     },
     "execution_count": 82,
     "metadata": {},
     "output_type": "execute_result"
    }
   ],
   "source": [
    "teams.columns"
   ]
  },
  {
   "cell_type": "code",
   "execution_count": 83,
   "metadata": {},
   "outputs": [],
   "source": [
    "managerID = random.sample(managers[managers['Active'] == True]['LicenseID'].tolist(), len(teams))\n",
    "teams['Manager'] = managerID\n",
    "\n",
    "coachID = random.sample(coaches[coaches['Active'] == True]['LicenseID'].tolist(), len(teams))\n",
    "teams['Coach'] = coachID"
   ]
  },
  {
   "cell_type": "code",
   "execution_count": 84,
   "metadata": {},
   "outputs": [
    {
     "data": {
      "text/html": [
       "<div>\n",
       "<style scoped>\n",
       "    .dataframe tbody tr th:only-of-type {\n",
       "        vertical-align: middle;\n",
       "    }\n",
       "\n",
       "    .dataframe tbody tr th {\n",
       "        vertical-align: top;\n",
       "    }\n",
       "\n",
       "    .dataframe thead th {\n",
       "        text-align: right;\n",
       "    }\n",
       "</style>\n",
       "<table border=\"1\" class=\"dataframe\">\n",
       "  <thead>\n",
       "    <tr style=\"text-align: right;\">\n",
       "      <th></th>\n",
       "      <th>UID</th>\n",
       "      <th>T_Name</th>\n",
       "      <th>NumPlayed</th>\n",
       "      <th>NumWon</th>\n",
       "      <th>Home</th>\n",
       "      <th>Manager</th>\n",
       "      <th>Coach</th>\n",
       "    </tr>\n",
       "  </thead>\n",
       "  <tbody>\n",
       "    <tr>\n",
       "      <th>0</th>\n",
       "      <td>TJ-663</td>\n",
       "      <td>Tempsoft</td>\n",
       "      <td>65</td>\n",
       "      <td>58</td>\n",
       "      <td>Agricultural University of Szczecin</td>\n",
       "      <td>NOLV-864</td>\n",
       "      <td>DJNT-962</td>\n",
       "    </tr>\n",
       "    <tr>\n",
       "      <th>1</th>\n",
       "      <td>JG-818</td>\n",
       "      <td>Gembucket</td>\n",
       "      <td>67</td>\n",
       "      <td>50</td>\n",
       "      <td>Marquette University</td>\n",
       "      <td>XZCY-912</td>\n",
       "      <td>JWNX-275</td>\n",
       "    </tr>\n",
       "    <tr>\n",
       "      <th>2</th>\n",
       "      <td>YT-531</td>\n",
       "      <td>Holdlamis</td>\n",
       "      <td>50</td>\n",
       "      <td>48</td>\n",
       "      <td>COSMIQ Institute of Technology</td>\n",
       "      <td>UIJY-863</td>\n",
       "      <td>XIEA-809</td>\n",
       "    </tr>\n",
       "    <tr>\n",
       "      <th>3</th>\n",
       "      <td>KG-943</td>\n",
       "      <td>Bigtax</td>\n",
       "      <td>67</td>\n",
       "      <td>59</td>\n",
       "      <td>Instituto Universitario de La Paz</td>\n",
       "      <td>GFRP-361</td>\n",
       "      <td>SQUB-386</td>\n",
       "    </tr>\n",
       "    <tr>\n",
       "      <th>4</th>\n",
       "      <td>FJ-273</td>\n",
       "      <td>Gembucket</td>\n",
       "      <td>64</td>\n",
       "      <td>45</td>\n",
       "      <td>Universidad de Córdoba</td>\n",
       "      <td>OBWP-363</td>\n",
       "      <td>JJJG-922</td>\n",
       "    </tr>\n",
       "    <tr>\n",
       "      <th>5</th>\n",
       "      <td>PY-241</td>\n",
       "      <td>Bitwolf</td>\n",
       "      <td>76</td>\n",
       "      <td>62</td>\n",
       "      <td>Universidad de Valladolid</td>\n",
       "      <td>KPUV-949</td>\n",
       "      <td>SPGV-738</td>\n",
       "    </tr>\n",
       "    <tr>\n",
       "      <th>6</th>\n",
       "      <td>NX-742</td>\n",
       "      <td>Mat Lam Tam</td>\n",
       "      <td>56</td>\n",
       "      <td>48</td>\n",
       "      <td>Universidad Popular del Cesar</td>\n",
       "      <td>SGCJ-248</td>\n",
       "      <td>HTSR-062</td>\n",
       "    </tr>\n",
       "    <tr>\n",
       "      <th>7</th>\n",
       "      <td>FO-623</td>\n",
       "      <td>Tresom</td>\n",
       "      <td>71</td>\n",
       "      <td>49</td>\n",
       "      <td>Metropolitan State University</td>\n",
       "      <td>VELB-451</td>\n",
       "      <td>KIBS-870</td>\n",
       "    </tr>\n",
       "    <tr>\n",
       "      <th>8</th>\n",
       "      <td>ZK-987</td>\n",
       "      <td>Greenlam</td>\n",
       "      <td>65</td>\n",
       "      <td>45</td>\n",
       "      <td>Ferdowsi University of Mashhad</td>\n",
       "      <td>NVWZ-929</td>\n",
       "      <td>BLHU-754</td>\n",
       "    </tr>\n",
       "    <tr>\n",
       "      <th>9</th>\n",
       "      <td>OF-955</td>\n",
       "      <td>Otcom</td>\n",
       "      <td>65</td>\n",
       "      <td>45</td>\n",
       "      <td>Heythrop College, University of London</td>\n",
       "      <td>SSYW-096</td>\n",
       "      <td>IGWI-431</td>\n",
       "    </tr>\n",
       "    <tr>\n",
       "      <th>10</th>\n",
       "      <td>EZ-769</td>\n",
       "      <td>Stronghold</td>\n",
       "      <td>57</td>\n",
       "      <td>53</td>\n",
       "      <td>Hiram College</td>\n",
       "      <td>GOSC-513</td>\n",
       "      <td>RRQV-282</td>\n",
       "    </tr>\n",
       "    <tr>\n",
       "      <th>11</th>\n",
       "      <td>WI-704</td>\n",
       "      <td>Konklab</td>\n",
       "      <td>59</td>\n",
       "      <td>49</td>\n",
       "      <td>American University of Afghanistan</td>\n",
       "      <td>IZHQ-092</td>\n",
       "      <td>NBQB-042</td>\n",
       "    </tr>\n",
       "    <tr>\n",
       "      <th>12</th>\n",
       "      <td>KW-724</td>\n",
       "      <td>Fix San</td>\n",
       "      <td>59</td>\n",
       "      <td>57</td>\n",
       "      <td>Atish Dipankar University</td>\n",
       "      <td>VHIR-010</td>\n",
       "      <td>XZVF-748</td>\n",
       "    </tr>\n",
       "    <tr>\n",
       "      <th>13</th>\n",
       "      <td>PN-497</td>\n",
       "      <td>Daltfresh</td>\n",
       "      <td>57</td>\n",
       "      <td>51</td>\n",
       "      <td>Université des Sciences et de la Technologie d...</td>\n",
       "      <td>RJBZ-784</td>\n",
       "      <td>ZUKH-521</td>\n",
       "    </tr>\n",
       "    <tr>\n",
       "      <th>14</th>\n",
       "      <td>YC-315</td>\n",
       "      <td>Span</td>\n",
       "      <td>54</td>\n",
       "      <td>37</td>\n",
       "      <td>Music Academy in Bydgoszcz</td>\n",
       "      <td>BPQK-308</td>\n",
       "      <td>SEZD-480</td>\n",
       "    </tr>\n",
       "    <tr>\n",
       "      <th>15</th>\n",
       "      <td>YZ-552</td>\n",
       "      <td>Voyatouch</td>\n",
       "      <td>63</td>\n",
       "      <td>54</td>\n",
       "      <td>Islamic Azad University Qazvin</td>\n",
       "      <td>AIRM-084</td>\n",
       "      <td>NAAJ-455</td>\n",
       "    </tr>\n",
       "    <tr>\n",
       "      <th>16</th>\n",
       "      <td>QL-031</td>\n",
       "      <td>Tresom</td>\n",
       "      <td>62</td>\n",
       "      <td>55</td>\n",
       "      <td>Technical University of Bialystok</td>\n",
       "      <td>UXWQ-236</td>\n",
       "      <td>CVHA-420</td>\n",
       "    </tr>\n",
       "    <tr>\n",
       "      <th>17</th>\n",
       "      <td>RJ-217</td>\n",
       "      <td>Zontrax</td>\n",
       "      <td>77</td>\n",
       "      <td>49</td>\n",
       "      <td>New England Institute of Technology</td>\n",
       "      <td>HETH-998</td>\n",
       "      <td>AEUN-603</td>\n",
       "    </tr>\n",
       "  </tbody>\n",
       "</table>\n",
       "</div>"
      ],
      "text/plain": [
       "       UID       T_Name  NumPlayed  NumWon  \\\n",
       "0   TJ-663     Tempsoft         65      58   \n",
       "1   JG-818    Gembucket         67      50   \n",
       "2   YT-531    Holdlamis         50      48   \n",
       "3   KG-943       Bigtax         67      59   \n",
       "4   FJ-273    Gembucket         64      45   \n",
       "5   PY-241      Bitwolf         76      62   \n",
       "6   NX-742  Mat Lam Tam         56      48   \n",
       "7   FO-623       Tresom         71      49   \n",
       "8   ZK-987     Greenlam         65      45   \n",
       "9   OF-955        Otcom         65      45   \n",
       "10  EZ-769   Stronghold         57      53   \n",
       "11  WI-704      Konklab         59      49   \n",
       "12  KW-724      Fix San         59      57   \n",
       "13  PN-497    Daltfresh         57      51   \n",
       "14  YC-315         Span         54      37   \n",
       "15  YZ-552    Voyatouch         63      54   \n",
       "16  QL-031       Tresom         62      55   \n",
       "17  RJ-217      Zontrax         77      49   \n",
       "\n",
       "                                                 Home   Manager     Coach  \n",
       "0                 Agricultural University of Szczecin  NOLV-864  DJNT-962  \n",
       "1                                Marquette University  XZCY-912  JWNX-275  \n",
       "2                      COSMIQ Institute of Technology  UIJY-863  XIEA-809  \n",
       "3                   Instituto Universitario de La Paz  GFRP-361  SQUB-386  \n",
       "4                              Universidad de Córdoba  OBWP-363  JJJG-922  \n",
       "5                           Universidad de Valladolid  KPUV-949  SPGV-738  \n",
       "6                       Universidad Popular del Cesar  SGCJ-248  HTSR-062  \n",
       "7                       Metropolitan State University  VELB-451  KIBS-870  \n",
       "8                      Ferdowsi University of Mashhad  NVWZ-929  BLHU-754  \n",
       "9              Heythrop College, University of London  SSYW-096  IGWI-431  \n",
       "10                                      Hiram College  GOSC-513  RRQV-282  \n",
       "11                 American University of Afghanistan  IZHQ-092  NBQB-042  \n",
       "12                          Atish Dipankar University  VHIR-010  XZVF-748  \n",
       "13  Université des Sciences et de la Technologie d...  RJBZ-784  ZUKH-521  \n",
       "14                         Music Academy in Bydgoszcz  BPQK-308  SEZD-480  \n",
       "15                     Islamic Azad University Qazvin  AIRM-084  NAAJ-455  \n",
       "16                  Technical University of Bialystok  UXWQ-236  CVHA-420  \n",
       "17                New England Institute of Technology  HETH-998  AEUN-603  "
      ]
     },
     "execution_count": 84,
     "metadata": {},
     "output_type": "execute_result"
    }
   ],
   "source": [
    "teams"
   ]
  },
  {
   "cell_type": "markdown",
   "metadata": {},
   "source": [
    "## Player"
   ]
  },
  {
   "cell_type": "code",
   "execution_count": 85,
   "metadata": {},
   "outputs": [
    {
     "data": {
      "text/plain": [
       "Index(['LicenseNumber', 'P_Name', 'Assists', 'P_Status', 'Goals',\n",
       "       'ShotPercent', 'Nationality', 'Age'],\n",
       "      dtype='object')"
      ]
     },
     "execution_count": 85,
     "metadata": {},
     "output_type": "execute_result"
    }
   ],
   "source": [
    "players.columns"
   ]
  },
  {
   "cell_type": "code",
   "execution_count": 86,
   "metadata": {},
   "outputs": [
    {
     "data": {
      "text/html": [
       "<div>\n",
       "<style scoped>\n",
       "    .dataframe tbody tr th:only-of-type {\n",
       "        vertical-align: middle;\n",
       "    }\n",
       "\n",
       "    .dataframe tbody tr th {\n",
       "        vertical-align: top;\n",
       "    }\n",
       "\n",
       "    .dataframe thead th {\n",
       "        text-align: right;\n",
       "    }\n",
       "</style>\n",
       "<table border=\"1\" class=\"dataframe\">\n",
       "  <thead>\n",
       "    <tr style=\"text-align: right;\">\n",
       "      <th></th>\n",
       "      <th>LicenseNumber</th>\n",
       "      <th>P_Name</th>\n",
       "      <th>Assists</th>\n",
       "      <th>P_Status</th>\n",
       "      <th>Goals</th>\n",
       "      <th>ShotPercent</th>\n",
       "      <th>Nationality</th>\n",
       "      <th>Age</th>\n",
       "    </tr>\n",
       "  </thead>\n",
       "  <tbody>\n",
       "    <tr>\n",
       "      <th>0</th>\n",
       "      <td>287-EG0-894</td>\n",
       "      <td>Mufi Jaeggi</td>\n",
       "      <td>20</td>\n",
       "      <td>True</td>\n",
       "      <td>28</td>\n",
       "      <td>0.64</td>\n",
       "      <td>Israel</td>\n",
       "      <td>23</td>\n",
       "    </tr>\n",
       "    <tr>\n",
       "      <th>1</th>\n",
       "      <td>099-VZ2-928</td>\n",
       "      <td>Leonie Addyman</td>\n",
       "      <td>15</td>\n",
       "      <td>False</td>\n",
       "      <td>16</td>\n",
       "      <td>0.98</td>\n",
       "      <td>United States</td>\n",
       "      <td>22</td>\n",
       "    </tr>\n",
       "    <tr>\n",
       "      <th>2</th>\n",
       "      <td>537-OT1-130</td>\n",
       "      <td>Urson Scrine</td>\n",
       "      <td>32</td>\n",
       "      <td>True</td>\n",
       "      <td>22</td>\n",
       "      <td>0.59</td>\n",
       "      <td>Egypt</td>\n",
       "      <td>20</td>\n",
       "    </tr>\n",
       "    <tr>\n",
       "      <th>3</th>\n",
       "      <td>938-II7-279</td>\n",
       "      <td>Filberto Molian</td>\n",
       "      <td>21</td>\n",
       "      <td>True</td>\n",
       "      <td>10</td>\n",
       "      <td>0.85</td>\n",
       "      <td>Ireland</td>\n",
       "      <td>21</td>\n",
       "    </tr>\n",
       "    <tr>\n",
       "      <th>4</th>\n",
       "      <td>173-KS0-031</td>\n",
       "      <td>Donal Wyvill</td>\n",
       "      <td>27</td>\n",
       "      <td>False</td>\n",
       "      <td>39</td>\n",
       "      <td>0.07</td>\n",
       "      <td>Pakistan</td>\n",
       "      <td>21</td>\n",
       "    </tr>\n",
       "  </tbody>\n",
       "</table>\n",
       "</div>"
      ],
      "text/plain": [
       "  LicenseNumber           P_Name  Assists  P_Status  Goals  ShotPercent  \\\n",
       "0   287-EG0-894      Mufi Jaeggi       20      True     28         0.64   \n",
       "1   099-VZ2-928   Leonie Addyman       15     False     16         0.98   \n",
       "2   537-OT1-130     Urson Scrine       32      True     22         0.59   \n",
       "3   938-II7-279  Filberto Molian       21      True     10         0.85   \n",
       "4   173-KS0-031     Donal Wyvill       27     False     39         0.07   \n",
       "\n",
       "     Nationality  Age  \n",
       "0         Israel   23  \n",
       "1  United States   22  \n",
       "2          Egypt   20  \n",
       "3        Ireland   21  \n",
       "4       Pakistan   21  "
      ]
     },
     "execution_count": 86,
     "metadata": {},
     "output_type": "execute_result"
    }
   ],
   "source": [
    "players.head()"
   ]
  },
  {
   "cell_type": "code",
   "execution_count": 87,
   "metadata": {},
   "outputs": [],
   "source": [
    "teamID = random.choices(teams['UID'].tolist(), k = len(players))\n",
    "players['Cur_Team'] = teamID"
   ]
  },
  {
   "cell_type": "code",
   "execution_count": 88,
   "metadata": {},
   "outputs": [
    {
     "data": {
      "text/html": [
       "<div>\n",
       "<style scoped>\n",
       "    .dataframe tbody tr th:only-of-type {\n",
       "        vertical-align: middle;\n",
       "    }\n",
       "\n",
       "    .dataframe tbody tr th {\n",
       "        vertical-align: top;\n",
       "    }\n",
       "\n",
       "    .dataframe thead th {\n",
       "        text-align: right;\n",
       "    }\n",
       "</style>\n",
       "<table border=\"1\" class=\"dataframe\">\n",
       "  <thead>\n",
       "    <tr style=\"text-align: right;\">\n",
       "      <th></th>\n",
       "      <th>LicenseNumber</th>\n",
       "      <th>P_Name</th>\n",
       "      <th>Assists</th>\n",
       "      <th>P_Status</th>\n",
       "      <th>Goals</th>\n",
       "      <th>ShotPercent</th>\n",
       "      <th>Nationality</th>\n",
       "      <th>Age</th>\n",
       "      <th>Cur_Team</th>\n",
       "    </tr>\n",
       "  </thead>\n",
       "  <tbody>\n",
       "    <tr>\n",
       "      <th>0</th>\n",
       "      <td>287-EG0-894</td>\n",
       "      <td>Mufi Jaeggi</td>\n",
       "      <td>20</td>\n",
       "      <td>True</td>\n",
       "      <td>28</td>\n",
       "      <td>0.64</td>\n",
       "      <td>Israel</td>\n",
       "      <td>23</td>\n",
       "      <td>EZ-769</td>\n",
       "    </tr>\n",
       "    <tr>\n",
       "      <th>1</th>\n",
       "      <td>099-VZ2-928</td>\n",
       "      <td>Leonie Addyman</td>\n",
       "      <td>15</td>\n",
       "      <td>False</td>\n",
       "      <td>16</td>\n",
       "      <td>0.98</td>\n",
       "      <td>United States</td>\n",
       "      <td>22</td>\n",
       "      <td>YT-531</td>\n",
       "    </tr>\n",
       "    <tr>\n",
       "      <th>2</th>\n",
       "      <td>537-OT1-130</td>\n",
       "      <td>Urson Scrine</td>\n",
       "      <td>32</td>\n",
       "      <td>True</td>\n",
       "      <td>22</td>\n",
       "      <td>0.59</td>\n",
       "      <td>Egypt</td>\n",
       "      <td>20</td>\n",
       "      <td>OF-955</td>\n",
       "    </tr>\n",
       "    <tr>\n",
       "      <th>3</th>\n",
       "      <td>938-II7-279</td>\n",
       "      <td>Filberto Molian</td>\n",
       "      <td>21</td>\n",
       "      <td>True</td>\n",
       "      <td>10</td>\n",
       "      <td>0.85</td>\n",
       "      <td>Ireland</td>\n",
       "      <td>21</td>\n",
       "      <td>WI-704</td>\n",
       "    </tr>\n",
       "    <tr>\n",
       "      <th>4</th>\n",
       "      <td>173-KS0-031</td>\n",
       "      <td>Donal Wyvill</td>\n",
       "      <td>27</td>\n",
       "      <td>False</td>\n",
       "      <td>39</td>\n",
       "      <td>0.07</td>\n",
       "      <td>Pakistan</td>\n",
       "      <td>21</td>\n",
       "      <td>YT-531</td>\n",
       "    </tr>\n",
       "  </tbody>\n",
       "</table>\n",
       "</div>"
      ],
      "text/plain": [
       "  LicenseNumber           P_Name  Assists  P_Status  Goals  ShotPercent  \\\n",
       "0   287-EG0-894      Mufi Jaeggi       20      True     28         0.64   \n",
       "1   099-VZ2-928   Leonie Addyman       15     False     16         0.98   \n",
       "2   537-OT1-130     Urson Scrine       32      True     22         0.59   \n",
       "3   938-II7-279  Filberto Molian       21      True     10         0.85   \n",
       "4   173-KS0-031     Donal Wyvill       27     False     39         0.07   \n",
       "\n",
       "     Nationality  Age Cur_Team  \n",
       "0         Israel   23   EZ-769  \n",
       "1  United States   22   YT-531  \n",
       "2          Egypt   20   OF-955  \n",
       "3        Ireland   21   WI-704  \n",
       "4       Pakistan   21   YT-531  "
      ]
     },
     "execution_count": 88,
     "metadata": {},
     "output_type": "execute_result"
    }
   ],
   "source": [
    "players.head()"
   ]
  },
  {
   "cell_type": "markdown",
   "metadata": {},
   "source": [
    "## Games"
   ]
  },
  {
   "cell_type": "code",
   "execution_count": 89,
   "metadata": {},
   "outputs": [],
   "source": [
    "games = pd.DataFrame(columns = ['gameID', 'Date', 'Ump_License', 'WinningTeam', 'Team2', 'Field'])\n",
    "\n",
    "for i in range(87):\n",
    "    gid = ''.join(random.choice(string.digits) for i in range(2)) + '-' + ''.join(random.choice(string.ascii_uppercase) for i in range(4))\n",
    "    date = fake.date_between(end_date='today', start_date='-3y')\n",
    "    ump = random.choice(umpire['LicenseNumber'])\n",
    "    [team1, team2] = random.choices(teams['UID'], k = 2)\n",
    "    field = random.choice([teams[teams['UID'] == team1]['Home'].to_list()[0], teams[teams['UID'] == team2]['Home'].to_list()[0]])\n",
    "    games.loc[len(games)] = [gid, date, ump, team1, team2, field]"
   ]
  },
  {
   "cell_type": "code",
   "execution_count": 90,
   "metadata": {},
   "outputs": [
    {
     "data": {
      "text/html": [
       "<div>\n",
       "<style scoped>\n",
       "    .dataframe tbody tr th:only-of-type {\n",
       "        vertical-align: middle;\n",
       "    }\n",
       "\n",
       "    .dataframe tbody tr th {\n",
       "        vertical-align: top;\n",
       "    }\n",
       "\n",
       "    .dataframe thead th {\n",
       "        text-align: right;\n",
       "    }\n",
       "</style>\n",
       "<table border=\"1\" class=\"dataframe\">\n",
       "  <thead>\n",
       "    <tr style=\"text-align: right;\">\n",
       "      <th></th>\n",
       "      <th>gameID</th>\n",
       "      <th>Date</th>\n",
       "      <th>Ump_License</th>\n",
       "      <th>WinningTeam</th>\n",
       "      <th>Team2</th>\n",
       "      <th>Field</th>\n",
       "    </tr>\n",
       "  </thead>\n",
       "  <tbody>\n",
       "    <tr>\n",
       "      <th>0</th>\n",
       "      <td>36-CBMY</td>\n",
       "      <td>2020-02-17</td>\n",
       "      <td>FH2Y-R826</td>\n",
       "      <td>ZK-987</td>\n",
       "      <td>TJ-663</td>\n",
       "      <td>Ferdowsi University of Mashhad</td>\n",
       "    </tr>\n",
       "    <tr>\n",
       "      <th>1</th>\n",
       "      <td>82-OHCX</td>\n",
       "      <td>2019-12-31</td>\n",
       "      <td>RD7V-F959</td>\n",
       "      <td>QL-031</td>\n",
       "      <td>FJ-273</td>\n",
       "      <td>Technical University of Bialystok</td>\n",
       "    </tr>\n",
       "    <tr>\n",
       "      <th>2</th>\n",
       "      <td>73-XJJP</td>\n",
       "      <td>2020-11-06</td>\n",
       "      <td>DW1V-P808</td>\n",
       "      <td>TJ-663</td>\n",
       "      <td>PY-241</td>\n",
       "      <td>Universidad de Valladolid</td>\n",
       "    </tr>\n",
       "    <tr>\n",
       "      <th>3</th>\n",
       "      <td>53-DBWX</td>\n",
       "      <td>2020-11-27</td>\n",
       "      <td>XE8G-R675</td>\n",
       "      <td>NX-742</td>\n",
       "      <td>FO-623</td>\n",
       "      <td>Metropolitan State University</td>\n",
       "    </tr>\n",
       "    <tr>\n",
       "      <th>4</th>\n",
       "      <td>78-ZJPC</td>\n",
       "      <td>2019-11-16</td>\n",
       "      <td>OR6E-V896</td>\n",
       "      <td>YT-531</td>\n",
       "      <td>WI-704</td>\n",
       "      <td>COSMIQ Institute of Technology</td>\n",
       "    </tr>\n",
       "    <tr>\n",
       "      <th>...</th>\n",
       "      <td>...</td>\n",
       "      <td>...</td>\n",
       "      <td>...</td>\n",
       "      <td>...</td>\n",
       "      <td>...</td>\n",
       "      <td>...</td>\n",
       "    </tr>\n",
       "    <tr>\n",
       "      <th>82</th>\n",
       "      <td>76-JWMY</td>\n",
       "      <td>2020-07-03</td>\n",
       "      <td>OR6E-V896</td>\n",
       "      <td>NX-742</td>\n",
       "      <td>RJ-217</td>\n",
       "      <td>New England Institute of Technology</td>\n",
       "    </tr>\n",
       "    <tr>\n",
       "      <th>83</th>\n",
       "      <td>62-HHIV</td>\n",
       "      <td>2020-09-04</td>\n",
       "      <td>RD7V-F959</td>\n",
       "      <td>NX-742</td>\n",
       "      <td>KW-724</td>\n",
       "      <td>Atish Dipankar University</td>\n",
       "    </tr>\n",
       "    <tr>\n",
       "      <th>84</th>\n",
       "      <td>48-ZYPV</td>\n",
       "      <td>2021-09-28</td>\n",
       "      <td>RD7V-F959</td>\n",
       "      <td>PN-497</td>\n",
       "      <td>FJ-273</td>\n",
       "      <td>Université des Sciences et de la Technologie d...</td>\n",
       "    </tr>\n",
       "    <tr>\n",
       "      <th>85</th>\n",
       "      <td>29-RVOE</td>\n",
       "      <td>2021-08-08</td>\n",
       "      <td>UL2I-Q791</td>\n",
       "      <td>PN-497</td>\n",
       "      <td>TJ-663</td>\n",
       "      <td>Agricultural University of Szczecin</td>\n",
       "    </tr>\n",
       "    <tr>\n",
       "      <th>86</th>\n",
       "      <td>90-UQXN</td>\n",
       "      <td>2020-01-02</td>\n",
       "      <td>OR6E-V896</td>\n",
       "      <td>YZ-552</td>\n",
       "      <td>KG-943</td>\n",
       "      <td>Islamic Azad University Qazvin</td>\n",
       "    </tr>\n",
       "  </tbody>\n",
       "</table>\n",
       "<p>87 rows × 6 columns</p>\n",
       "</div>"
      ],
      "text/plain": [
       "     gameID        Date Ump_License WinningTeam   Team2  \\\n",
       "0   36-CBMY  2020-02-17   FH2Y-R826      ZK-987  TJ-663   \n",
       "1   82-OHCX  2019-12-31   RD7V-F959      QL-031  FJ-273   \n",
       "2   73-XJJP  2020-11-06   DW1V-P808      TJ-663  PY-241   \n",
       "3   53-DBWX  2020-11-27   XE8G-R675      NX-742  FO-623   \n",
       "4   78-ZJPC  2019-11-16   OR6E-V896      YT-531  WI-704   \n",
       "..      ...         ...         ...         ...     ...   \n",
       "82  76-JWMY  2020-07-03   OR6E-V896      NX-742  RJ-217   \n",
       "83  62-HHIV  2020-09-04   RD7V-F959      NX-742  KW-724   \n",
       "84  48-ZYPV  2021-09-28   RD7V-F959      PN-497  FJ-273   \n",
       "85  29-RVOE  2021-08-08   UL2I-Q791      PN-497  TJ-663   \n",
       "86  90-UQXN  2020-01-02   OR6E-V896      YZ-552  KG-943   \n",
       "\n",
       "                                                Field  \n",
       "0                      Ferdowsi University of Mashhad  \n",
       "1                   Technical University of Bialystok  \n",
       "2                           Universidad de Valladolid  \n",
       "3                       Metropolitan State University  \n",
       "4                      COSMIQ Institute of Technology  \n",
       "..                                                ...  \n",
       "82                New England Institute of Technology  \n",
       "83                          Atish Dipankar University  \n",
       "84  Université des Sciences et de la Technologie d...  \n",
       "85                Agricultural University of Szczecin  \n",
       "86                     Islamic Azad University Qazvin  \n",
       "\n",
       "[87 rows x 6 columns]"
      ]
     },
     "execution_count": 90,
     "metadata": {},
     "output_type": "execute_result"
    }
   ],
   "source": [
    "games"
   ]
  },
  {
   "cell_type": "markdown",
   "metadata": {},
   "source": [
    "## Violations"
   ]
  },
  {
   "cell_type": "code",
   "execution_count": 91,
   "metadata": {},
   "outputs": [],
   "source": [
    "violations = pd.DataFrame(columns = ['UID', 'Type', 'Player', 'gameID'])"
   ]
  },
  {
   "cell_type": "code",
   "execution_count": 92,
   "metadata": {},
   "outputs": [
    {
     "data": {
      "text/html": [
       "<div>\n",
       "<style scoped>\n",
       "    .dataframe tbody tr th:only-of-type {\n",
       "        vertical-align: middle;\n",
       "    }\n",
       "\n",
       "    .dataframe tbody tr th {\n",
       "        vertical-align: top;\n",
       "    }\n",
       "\n",
       "    .dataframe thead th {\n",
       "        text-align: right;\n",
       "    }\n",
       "</style>\n",
       "<table border=\"1\" class=\"dataframe\">\n",
       "  <thead>\n",
       "    <tr style=\"text-align: right;\">\n",
       "      <th></th>\n",
       "      <th>UID</th>\n",
       "      <th>Type</th>\n",
       "      <th>Player</th>\n",
       "      <th>gameID</th>\n",
       "    </tr>\n",
       "  </thead>\n",
       "  <tbody>\n",
       "  </tbody>\n",
       "</table>\n",
       "</div>"
      ],
      "text/plain": [
       "Empty DataFrame\n",
       "Columns: [UID, Type, Player, gameID]\n",
       "Index: []"
      ]
     },
     "execution_count": 92,
     "metadata": {},
     "output_type": "execute_result"
    }
   ],
   "source": [
    "violations.head()"
   ]
  },
  {
   "cell_type": "code",
   "execution_count": 93,
   "metadata": {},
   "outputs": [
    {
     "data": {
      "text/plain": [
       "Index(['LicenseNumber', 'P_Name', 'Assists', 'P_Status', 'Goals',\n",
       "       'ShotPercent', 'Nationality', 'Age', 'Cur_Team'],\n",
       "      dtype='object')"
      ]
     },
     "execution_count": 93,
     "metadata": {},
     "output_type": "execute_result"
    }
   ],
   "source": [
    "players.columns"
   ]
  },
  {
   "cell_type": "code",
   "execution_count": 94,
   "metadata": {},
   "outputs": [],
   "source": [
    "violationType = ['Kicking', 'Tripping', 'Charging', 'Pushing', 'Tackling', 'Holding', 'Touching the Ball']\n",
    "\n",
    "for i in range(367):\n",
    "    uid = ''.join(random.choice(string.ascii_uppercase + string.digits) for i in range(4)) + '-' + ''.join(random.choice(string.ascii_uppercase + string.digits) for i in range(4)) \n",
    "    violation = random.choice(violationType)\n",
    "\n",
    "    gid = random.choice(games['gameID'])\n",
    "    tempTeam = random.choice(games[games['gameID'] == gid][['WinningTeam', 'Team2']].iloc[0].to_list())\n",
    "    player = random.choice(players[players['Cur_Team'] == tempTeam]['LicenseNumber'].to_list())\n",
    "\n",
    "    violations.loc[len(violations)] = [uid, violation, player, gid]"
   ]
  },
  {
   "cell_type": "code",
   "execution_count": 95,
   "metadata": {},
   "outputs": [
    {
     "data": {
      "text/html": [
       "<div>\n",
       "<style scoped>\n",
       "    .dataframe tbody tr th:only-of-type {\n",
       "        vertical-align: middle;\n",
       "    }\n",
       "\n",
       "    .dataframe tbody tr th {\n",
       "        vertical-align: top;\n",
       "    }\n",
       "\n",
       "    .dataframe thead th {\n",
       "        text-align: right;\n",
       "    }\n",
       "</style>\n",
       "<table border=\"1\" class=\"dataframe\">\n",
       "  <thead>\n",
       "    <tr style=\"text-align: right;\">\n",
       "      <th></th>\n",
       "      <th>UID</th>\n",
       "      <th>Type</th>\n",
       "      <th>Player</th>\n",
       "      <th>gameID</th>\n",
       "    </tr>\n",
       "  </thead>\n",
       "  <tbody>\n",
       "    <tr>\n",
       "      <th>0</th>\n",
       "      <td>JERW-EHGL</td>\n",
       "      <td>Charging</td>\n",
       "      <td>168-PW3-948</td>\n",
       "      <td>05-ONPE</td>\n",
       "    </tr>\n",
       "    <tr>\n",
       "      <th>1</th>\n",
       "      <td>QSLL-AOLL</td>\n",
       "      <td>Tackling</td>\n",
       "      <td>363-TK0-866</td>\n",
       "      <td>97-TFCQ</td>\n",
       "    </tr>\n",
       "    <tr>\n",
       "      <th>2</th>\n",
       "      <td>SCY5-FHLD</td>\n",
       "      <td>Charging</td>\n",
       "      <td>684-MS1-464</td>\n",
       "      <td>20-BZBL</td>\n",
       "    </tr>\n",
       "    <tr>\n",
       "      <th>3</th>\n",
       "      <td>GFUJ-MD00</td>\n",
       "      <td>Holding</td>\n",
       "      <td>969-JJ9-407</td>\n",
       "      <td>73-XJJP</td>\n",
       "    </tr>\n",
       "    <tr>\n",
       "      <th>4</th>\n",
       "      <td>9MTR-PE8I</td>\n",
       "      <td>Pushing</td>\n",
       "      <td>872-RX5-279</td>\n",
       "      <td>87-BLBU</td>\n",
       "    </tr>\n",
       "  </tbody>\n",
       "</table>\n",
       "</div>"
      ],
      "text/plain": [
       "         UID      Type       Player   gameID\n",
       "0  JERW-EHGL  Charging  168-PW3-948  05-ONPE\n",
       "1  QSLL-AOLL  Tackling  363-TK0-866  97-TFCQ\n",
       "2  SCY5-FHLD  Charging  684-MS1-464  20-BZBL\n",
       "3  GFUJ-MD00   Holding  969-JJ9-407  73-XJJP\n",
       "4  9MTR-PE8I   Pushing  872-RX5-279  87-BLBU"
      ]
     },
     "execution_count": 95,
     "metadata": {},
     "output_type": "execute_result"
    }
   ],
   "source": [
    "violations.head()"
   ]
  },
  {
   "cell_type": "markdown",
   "metadata": {},
   "source": [
    "## Contracts"
   ]
  },
  {
   "cell_type": "code",
   "execution_count": 96,
   "metadata": {},
   "outputs": [
    {
     "data": {
      "text/plain": [
       "Index(['ContractID', 'Team', 'Person', 'ContractEnd', 'ContractStart',\n",
       "       'Salary'],\n",
       "      dtype='object')"
      ]
     },
     "execution_count": 96,
     "metadata": {},
     "output_type": "execute_result"
    }
   ],
   "source": [
    "contracts.columns"
   ]
  },
  {
   "cell_type": "code",
   "execution_count": 97,
   "metadata": {},
   "outputs": [
    {
     "data": {
      "text/html": [
       "<div>\n",
       "<style scoped>\n",
       "    .dataframe tbody tr th:only-of-type {\n",
       "        vertical-align: middle;\n",
       "    }\n",
       "\n",
       "    .dataframe tbody tr th {\n",
       "        vertical-align: top;\n",
       "    }\n",
       "\n",
       "    .dataframe thead th {\n",
       "        text-align: right;\n",
       "    }\n",
       "</style>\n",
       "<table border=\"1\" class=\"dataframe\">\n",
       "  <thead>\n",
       "    <tr style=\"text-align: right;\">\n",
       "      <th></th>\n",
       "      <th>ContractID</th>\n",
       "      <th>Team</th>\n",
       "      <th>Person</th>\n",
       "      <th>ContractEnd</th>\n",
       "      <th>ContractStart</th>\n",
       "      <th>Salary</th>\n",
       "    </tr>\n",
       "  </thead>\n",
       "  <tbody>\n",
       "  </tbody>\n",
       "</table>\n",
       "</div>"
      ],
      "text/plain": [
       "Empty DataFrame\n",
       "Columns: [ContractID, Team, Person, ContractEnd, ContractStart, Salary]\n",
       "Index: []"
      ]
     },
     "execution_count": 97,
     "metadata": {},
     "output_type": "execute_result"
    }
   ],
   "source": [
    "contracts.head()"
   ]
  },
  {
   "cell_type": "code",
   "execution_count": 98,
   "metadata": {},
   "outputs": [],
   "source": [
    "player_contracts = contracts.copy()\n",
    "coach_contracts = contracts.copy()\n",
    "manager_contracts = contracts.copy()"
   ]
  },
  {
   "cell_type": "code",
   "execution_count": 99,
   "metadata": {},
   "outputs": [],
   "source": [
    "for index, row in players.iterrows():\n",
    "    cid = ''.join(random.choice(string.ascii_uppercase + string.digits) for i in range(4)) + '-' + ''.join(random.choice(string.digits) for i in range(4))\n",
    "    team = row['Cur_Team']\n",
    "    person = row['LicenseNumber']\n",
    "\n",
    "    dateStart = fake.date_between(end_date='today', start_date='-3y')\n",
    "    dateEnd = fake.date_between(end_date='+3y', start_date='today')\n",
    "\n",
    "    salary = random.randint(10000, 100000)    \n",
    "    player_contracts.loc[len(player_contracts)] = [cid, team, person, dateEnd, dateStart, salary]"
   ]
  },
  {
   "cell_type": "code",
   "execution_count": 100,
   "metadata": {},
   "outputs": [
    {
     "data": {
      "text/html": [
       "<div>\n",
       "<style scoped>\n",
       "    .dataframe tbody tr th:only-of-type {\n",
       "        vertical-align: middle;\n",
       "    }\n",
       "\n",
       "    .dataframe tbody tr th {\n",
       "        vertical-align: top;\n",
       "    }\n",
       "\n",
       "    .dataframe thead th {\n",
       "        text-align: right;\n",
       "    }\n",
       "</style>\n",
       "<table border=\"1\" class=\"dataframe\">\n",
       "  <thead>\n",
       "    <tr style=\"text-align: right;\">\n",
       "      <th></th>\n",
       "      <th>LicenseID</th>\n",
       "      <th>First_Name</th>\n",
       "      <th>Last_Name</th>\n",
       "      <th>Active</th>\n",
       "      <th>WinPercent</th>\n",
       "    </tr>\n",
       "  </thead>\n",
       "  <tbody>\n",
       "    <tr>\n",
       "      <th>0</th>\n",
       "      <td>JJJG-922</td>\n",
       "      <td>Carmine</td>\n",
       "      <td>Urry</td>\n",
       "      <td>True</td>\n",
       "      <td>35.64</td>\n",
       "    </tr>\n",
       "    <tr>\n",
       "      <th>1</th>\n",
       "      <td>KMHC-427</td>\n",
       "      <td>Juan</td>\n",
       "      <td>Tabard</td>\n",
       "      <td>False</td>\n",
       "      <td>82.11</td>\n",
       "    </tr>\n",
       "    <tr>\n",
       "      <th>2</th>\n",
       "      <td>BQJG-863</td>\n",
       "      <td>Veronica</td>\n",
       "      <td>Akam</td>\n",
       "      <td>True</td>\n",
       "      <td>68.75</td>\n",
       "    </tr>\n",
       "    <tr>\n",
       "      <th>3</th>\n",
       "      <td>LYXZ-176</td>\n",
       "      <td>Claire</td>\n",
       "      <td>Saltmarshe</td>\n",
       "      <td>False</td>\n",
       "      <td>82.21</td>\n",
       "    </tr>\n",
       "    <tr>\n",
       "      <th>4</th>\n",
       "      <td>XZVF-748</td>\n",
       "      <td>Byran</td>\n",
       "      <td>Dall</td>\n",
       "      <td>True</td>\n",
       "      <td>0.00</td>\n",
       "    </tr>\n",
       "  </tbody>\n",
       "</table>\n",
       "</div>"
      ],
      "text/plain": [
       "  LicenseID First_Name   Last_Name  Active  WinPercent\n",
       "0  JJJG-922    Carmine        Urry    True       35.64\n",
       "1  KMHC-427       Juan      Tabard   False       82.11\n",
       "2  BQJG-863   Veronica        Akam    True       68.75\n",
       "3  LYXZ-176     Claire  Saltmarshe   False       82.21\n",
       "4  XZVF-748      Byran        Dall    True        0.00"
      ]
     },
     "execution_count": 100,
     "metadata": {},
     "output_type": "execute_result"
    }
   ],
   "source": [
    "coaches.head()"
   ]
  },
  {
   "cell_type": "code",
   "execution_count": 101,
   "metadata": {},
   "outputs": [
    {
     "name": "stdout",
     "output_type": "stream",
     "text": [
      "JJJG-922\n",
      "XZVF-748\n",
      "SQUB-386\n",
      "SEZD-480\n",
      "IGWI-431\n",
      "BLHU-754\n",
      "AEUN-603\n",
      "NBQB-042\n",
      "SPGV-738\n",
      "CVHA-420\n",
      "RRQV-282\n",
      "ZUKH-521\n",
      "KIBS-870\n",
      "DJNT-962\n",
      "HTSR-062\n",
      "XIEA-809\n",
      "JWNX-275\n",
      "NAAJ-455\n"
     ]
    }
   ],
   "source": [
    "for index, row in coaches.iterrows():\n",
    "    cid = ''.join(random.choice(string.ascii_uppercase + string.digits) for i in range(4)) + '-' + ''.join(random.choice(string.digits) for i in range(4))\n",
    "    \n",
    "    person = row['LicenseID']    \n",
    "    if person in teams['Coach'].tolist():\n",
    "        teamID = teams[teams['Coach'] == person]['UID'].tolist()[0]\n",
    "        print(person)\n",
    "\n",
    "        dateStart = fake.date_between(end_date='today', start_date='-3y')\n",
    "        dateEnd = fake.date_between(end_date='+3y', start_date='today')\n",
    "\n",
    "        salary = random.randint(10000, 100000)    \n",
    "        coach_contracts.loc[len(coach_contracts)] = [cid, teamID, person, dateEnd, dateStart, salary]"
   ]
  },
  {
   "cell_type": "code",
   "execution_count": 102,
   "metadata": {},
   "outputs": [],
   "source": [
    "for index, row in managers.iterrows():\n",
    "    cid = ''.join(random.choice(string.ascii_uppercase + string.digits) for i in range(4)) + '-' + ''.join(random.choice(string.digits) for i in range(4))\n",
    "    person = row['LicenseID']\n",
    "\n",
    "    if person in teams['Manager'].tolist():\n",
    "        teamID = teams[teams['Manager'] == row['LicenseID']]['UID'].tolist()[0]\n",
    "        \n",
    "\n",
    "        dateStart = fake.date_between(end_date='today', start_date='-3y')\n",
    "        dateEnd = fake.date_between(end_date='+3y', start_date='today')\n",
    "\n",
    "        salary = random.randint(10000, 100000)    \n",
    "        manager_contracts.loc[len(manager_contracts)] = [cid, teamID, person, dateStart, dateEnd, salary]"
   ]
  },
  {
   "cell_type": "code",
   "execution_count": 103,
   "metadata": {},
   "outputs": [
    {
     "data": {
      "text/html": [
       "<div>\n",
       "<style scoped>\n",
       "    .dataframe tbody tr th:only-of-type {\n",
       "        vertical-align: middle;\n",
       "    }\n",
       "\n",
       "    .dataframe tbody tr th {\n",
       "        vertical-align: top;\n",
       "    }\n",
       "\n",
       "    .dataframe thead th {\n",
       "        text-align: right;\n",
       "    }\n",
       "</style>\n",
       "<table border=\"1\" class=\"dataframe\">\n",
       "  <thead>\n",
       "    <tr style=\"text-align: right;\">\n",
       "      <th></th>\n",
       "      <th>ContractID</th>\n",
       "      <th>Team</th>\n",
       "      <th>Person</th>\n",
       "      <th>ContractEnd</th>\n",
       "      <th>ContractStart</th>\n",
       "      <th>Salary</th>\n",
       "    </tr>\n",
       "  </thead>\n",
       "  <tbody>\n",
       "  </tbody>\n",
       "</table>\n",
       "</div>"
      ],
      "text/plain": [
       "Empty DataFrame\n",
       "Columns: [ContractID, Team, Person, ContractEnd, ContractStart, Salary]\n",
       "Index: []"
      ]
     },
     "execution_count": 103,
     "metadata": {},
     "output_type": "execute_result"
    }
   ],
   "source": [
    "contracts"
   ]
  },
  {
   "cell_type": "markdown",
   "metadata": {},
   "source": [
    "## Goals"
   ]
  },
  {
   "cell_type": "code",
   "execution_count": 104,
   "metadata": {},
   "outputs": [],
   "source": [
    "goals = pd.DataFrame(columns = ['GID', 'Shooter', 'gameID'])"
   ]
  },
  {
   "cell_type": "code",
   "execution_count": 105,
   "metadata": {},
   "outputs": [
    {
     "data": {
      "text/plain": [
       "Index(['GID', 'Shooter', 'gameID'], dtype='object')"
      ]
     },
     "execution_count": 105,
     "metadata": {},
     "output_type": "execute_result"
    }
   ],
   "source": [
    "goals.columns"
   ]
  },
  {
   "cell_type": "code",
   "execution_count": 106,
   "metadata": {},
   "outputs": [
    {
     "data": {
      "text/html": [
       "<div>\n",
       "<style scoped>\n",
       "    .dataframe tbody tr th:only-of-type {\n",
       "        vertical-align: middle;\n",
       "    }\n",
       "\n",
       "    .dataframe tbody tr th {\n",
       "        vertical-align: top;\n",
       "    }\n",
       "\n",
       "    .dataframe thead th {\n",
       "        text-align: right;\n",
       "    }\n",
       "</style>\n",
       "<table border=\"1\" class=\"dataframe\">\n",
       "  <thead>\n",
       "    <tr style=\"text-align: right;\">\n",
       "      <th></th>\n",
       "      <th>GID</th>\n",
       "      <th>Shooter</th>\n",
       "      <th>gameID</th>\n",
       "    </tr>\n",
       "  </thead>\n",
       "  <tbody>\n",
       "  </tbody>\n",
       "</table>\n",
       "</div>"
      ],
      "text/plain": [
       "Empty DataFrame\n",
       "Columns: [GID, Shooter, gameID]\n",
       "Index: []"
      ]
     },
     "execution_count": 106,
     "metadata": {},
     "output_type": "execute_result"
    }
   ],
   "source": [
    "goals.head()"
   ]
  },
  {
   "cell_type": "code",
   "execution_count": 107,
   "metadata": {},
   "outputs": [],
   "source": [
    "for index, row in players.iterrows():\n",
    "    player = row['LicenseNumber']\n",
    "    team1 = players[players['LicenseNumber'] == player]['Cur_Team'].tolist()[0]\n",
    "    for i in range(row['Goals']):\n",
    "        gid = ''.join(random.choice(string.ascii_uppercase + string.digits) for i in range(4)) + '-' + ''.join(random.choice(string.ascii_uppercase + string.digits) for i in range(4)) \n",
    "\n",
    "        gameid = random.choice(games[games['WinningTeam'] == team1]['gameID'].tolist())\n",
    "\n",
    "        goals.loc[len(goals)] = [gid, player, gameid]"
   ]
  },
  {
   "cell_type": "code",
   "execution_count": 108,
   "metadata": {},
   "outputs": [],
   "source": [
    "umpire.to_csv('../Data/umpire.csv', index=False)\n",
    "violations.to_csv('../Data/violations.csv', index=False)\n",
    "players.to_csv('../Data/players.csv', index=False)\n",
    "goals.to_csv('../Data/goals.csv', index=False)\n",
    "games.to_csv('../Data/games.csv', index=False)\n",
    "coach_contracts.to_csv('../Data/coach_contracts.csv', index=False)\n",
    "manager_contracts.to_csv('../Data/manager_contracts.csv', index=False)\n",
    "player_contracts.to_csv('../Data/player_contracts.csv', index=False)\n",
    "managers.to_csv('../Data/managers.csv', index=False)\n",
    "teams.to_csv('../Data/teams.csv', index=False)\n",
    "coaches.to_csv('../Data/coaches.csv', index=False)"
   ]
  }
 ],
 "metadata": {
  "interpreter": {
   "hash": "7aa7eecd0f849ab40efe6ac0a8ce5383eaa0569ecfba7009708b3eaae53995d1"
  },
  "kernelspec": {
   "display_name": "Python 3.10.4 ('env')",
   "language": "python",
   "name": "python3"
  },
  "language_info": {
   "codemirror_mode": {
    "name": "ipython",
    "version": 3
   },
   "file_extension": ".py",
   "mimetype": "text/x-python",
   "name": "python",
   "nbconvert_exporter": "python",
   "pygments_lexer": "ipython3",
   "version": "3.10.4"
  },
  "orig_nbformat": 4
 },
 "nbformat": 4,
 "nbformat_minor": 2
}
